{
  "nbformat": 4,
  "nbformat_minor": 0,
  "metadata": {
    "colab": {
      "name": "1-pend_with_drag.ipynb",
      "provenance": [],
      "toc_visible": true,
      "authorship_tag": "ABX9TyPjZUzZF1l6bK5n7xiaRiwP",
      "include_colab_link": true
    },
    "kernelspec": {
      "name": "python3",
      "display_name": "Python 3"
    },
    "language_info": {
      "name": "python"
    }
  },
  "cells": [
    {
      "cell_type": "markdown",
      "metadata": {
        "id": "view-in-github",
        "colab_type": "text"
      },
      "source": [
        "<a href=\"https://colab.research.google.com/github/Adwait-Naravane/Projects--comp-phy-/blob/pendulums/1_pend_with_drag.ipynb\" target=\"_parent\"><img src=\"https://colab.research.google.com/assets/colab-badge.svg\" alt=\"Open In Colab\"/></a>"
      ]
    },
    {
      "cell_type": "markdown",
      "metadata": {
        "id": "qFDUWsfL-FCN"
      },
      "source": [
        "# Single bob pendulum with drag\n",
        "\n",
        "\n",
        "\n"
      ]
    },
    {
      "cell_type": "markdown",
      "metadata": {
        "id": "qSZKAgLjJOgy"
      },
      "source": [
        "From the equations of motion, we gain a differential equation for a simple pendulum with drag assuming a constant length. "
      ]
    },
    {
      "cell_type": "markdown",
      "metadata": {
        "id": "XmHeYw6uJfQA"
      },
      "source": [
        "$$\\frac{d^2 \\theta}{dt^2} + \\frac{b}{m} \\frac{d \\theta}{dt} + \\frac{g}{l} \\sin(\\theta) = 0$$ \n",
        "here we do not assume a small angle and solve this numerically. \n",
        "\n",
        "\n",
        "\n",
        "\n"
      ]
    },
    {
      "cell_type": "code",
      "metadata": {
        "id": "4WQi8KKZJeLd"
      },
      "source": [
        "#we are gonna use \"scipy.integrate.odeint\" to solve this numerically.\n",
        "\n",
        "import numpy as np\n",
        "import matplotlib.pyplot as plt\n",
        "import math\n",
        "import matplotlib.animation as animation\n",
        "from scipy.integrate import odeint\n",
        "\n"
      ],
      "execution_count": 1,
      "outputs": []
    },
    {
      "cell_type": "code",
      "metadata": {
        "id": "CWyQ3BeQJavY"
      },
      "source": [
        "#theta will be the matrix for angle and angular velocity.\n",
        "#the function below is our model.\n",
        "def model(theta, t, b,g,l,m):\n",
        "  theta1 = theta[0]\n",
        "  theta2 = theta[1]\n",
        "  dtheta1_dt = theta2\n",
        "  dtheta2_dt = -(b/m)*theta2 - (g/l)*math.sin(theta1)\n",
        "  dtheta_dt = [dtheta1_dt, dtheta2_dt]\n",
        "  return dtheta_dt\n",
        "\n"
      ],
      "execution_count": 2,
      "outputs": []
    },
    {
      "cell_type": "code",
      "metadata": {
        "id": "WWu2HTGaLrp_"
      },
      "source": [
        "#define all constants and initial conditions.\n",
        "\n",
        "b = 0.00\n",
        "g = 9.81\n",
        "l = 1\n",
        "m = 0.1\n",
        "\n",
        "theta_0 = [math.pi/2, 0]\n",
        "#theta_n = [-1*math.pi/2, 0]\n",
        "T = 10\n",
        "t = np.linspace(0,T, 150)"
      ],
      "execution_count": 3,
      "outputs": []
    },
    {
      "cell_type": "code",
      "metadata": {
        "id": "_9eCvS3RMNU4"
      },
      "source": [
        "theta = odeint(model , theta_0, t , args = (b,g,l,m))\n",
        "#thetan = odeint(model, theta_n, t, args = (b,g,l,m))"
      ],
      "execution_count": 4,
      "outputs": []
    },
    {
      "cell_type": "code",
      "metadata": {
        "colab": {
          "base_uri": "https://localhost:8080/",
          "height": 268
        },
        "id": "Plb3Q_FZMR0M",
        "outputId": "477d3bca-7925-45d1-e363-1af1a403d773"
      },
      "source": [
        "#animation time\n",
        "fig = plt.figure()\n",
        "ax = fig.add_subplot(1,1,1)\n",
        "ax.set_xlim([-1,1])\n",
        "ax.set_ylim([-1.5, 0.5])\n",
        "plt.rcParams['font.size'] = 17\n",
        "\n",
        "lis = []\n",
        "for i in range(len(theta)):\n",
        "  ln, = ax.plot([0,np.sin(theta[i,0])], [0, -np.cos(theta[i,0])], color = 'w', lw = 2)\n",
        "#  ln1, = ax.plot([0,np.sin(thetan[i,0])], [0, -np.cos(thetan[i,0])], color = 'w', lw = 2)\n",
        "\n",
        "  bob, = ax.plot(np.sin(theta[i,0]), -np.cos(theta[i,0]), 'o', color = 'y', markersize = 10)\n",
        "#  bob1, = ax.plot(np.sin(thetan[i,0]), -np.cos(thetan[i,0]), 'o', color = 'y', markersize = 10)\n",
        "  lis.append([ln,bob,])\n",
        "\n",
        "ani = animation.ArtistAnimation(fig, lis, interval = 50)\n",
        "ani.save('pend_drag.mp4', writer = 'ffmpeg', fps = 20)"
      ],
      "execution_count": 5,
      "outputs": [
        {
          "output_type": "display_data",
          "data": {
            "image/png": "[encoded data removed]",
            "text/plain": [
              "<Figure size 432x288 with 1 Axes>"
            ]
          },
          "metadata": {
            "tags": [],
            "needs_background": "light"
          }
        }
      ]
    },
    {
      "cell_type": "code",
      "metadata": {
        "id": "RQArepD1B1Z-"
      },
      "source": [
        ""
      ],
      "execution_count": null,
      "outputs": []
    }
  ]
}