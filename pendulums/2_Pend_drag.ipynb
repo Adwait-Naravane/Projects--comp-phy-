{
  "nbformat": 4,
  "nbformat_minor": 0,
  "metadata": {
    "colab": {
      "name": "2-Pend_drag.ipynb",
      "provenance": [],
      "authorship_tag": "ABX9TyO2Ndaasm7fcPbrKjE2vaBi",
      "include_colab_link": true
    },
    "kernelspec": {
      "name": "python3",
      "display_name": "Python 3"
    },
    "language_info": {
      "name": "python"
    }
  },
  "cells": [
    {
      "cell_type": "markdown",
      "metadata": {
        "id": "view-in-github",
        "colab_type": "text"
      },
      "source": [
        "<a href=\"https://colab.research.google.com/github/Adwait-Naravane/Projects--comp-phy-/blob/pendulums/2_Pend_drag.ipynb\" target=\"_parent\"><img src=\"https://colab.research.google.com/assets/colab-badge.svg\" alt=\"Open In Colab\"/></a>"
      ]
    },
    {
      "cell_type": "code",
      "metadata": {
        "id": "_2cs7LhD9eCC"
      },
      "source": [
        "import numpy as np\n",
        "from scipy.integrate import odeint\n",
        "import matplotlib.pyplot as plt\n",
        "import math\n",
        "import matplotlib.animation as animation\n"
      ],
      "execution_count": null,
      "outputs": []
    },
    {
      "cell_type": "code",
      "metadata": {
        "id": "iK7XmnqdLLog"
      },
      "source": [
        "l1 = 1\n",
        "l2 = 1\n",
        "m1 = 1\n",
        "m2 = 1\n",
        "b = 0.0\n",
        "g = 9.8\n",
        "def model(y, t, L1, L2, m1, m2):\n",
        "    theta1, w1, theta2, w2 = y\n",
        "\n",
        "    c, s = np.cos(theta1-theta2), np.sin(theta1-theta2)\n",
        "\n",
        "    theta1dot = w1\n",
        "    w1dot = (m2*g*np.sin(theta2)*c - m2*s*(l1*w1**2*c + l2*w2**2) -\n",
        "             (m1+m2)*g*np.sin(theta1)) / l1 / (m1 + m2*s**2) - (b/m1)*w1\n",
        "    theta2dot = w2\n",
        "    w2dot = ((m1+m2)*(l1*w1**2*s - g*np.sin(theta2) + g*np.sin(theta1)*c) + \n",
        "             m2*L2*w2**2*s*c) / l2 / (m1 + m2*s**2) - (b/m2)*w1\n",
        "    return theta1dot, w1dot, theta2dot, w2dot\n",
        "  \n",
        "tmax , dt = 20, 0.05\n",
        "t = np.arange(0,tmax + dt, dt)\n",
        "\n",
        "y0 = np.array([np.pi/2, 0, np.pi/2, 0])\n",
        "#y_n = np.array([np.pi/2, 0, np.pi/2 + 0.01, 0])\n",
        "y = odeint(model, y0, t, args=(l1, l2, m1, m2))\n",
        "#yl = odeint(model, y_n, t, args=(l1, l2, m1, m2))"
      ],
      "execution_count": null,
      "outputs": []
    },
    {
      "cell_type": "code",
      "metadata": {
        "colab": {
          "base_uri": "https://localhost:8080/",
          "height": 383
        },
        "id": "lVuGJumMRXis",
        "outputId": "1658a4f5-e03c-4147-df9b-4512327d1bff"
      },
      "source": [
        "\n",
        "fig = plt.figure(figsize  = (5,5))\n",
        "ax  = fig.add_subplot(1,1,1)\n",
        "ax.set_xlim([-2,2])\n",
        "ax.set_ylim([-3.5, 0.5])\n",
        "\n",
        "plt.rcParams['font.size'] = 17\n",
        "\n",
        "lis = []\n",
        "for i in range(len(y)):\n",
        "  ln, = ax.plot([0, l1*np.sin(y[i,0]), l1*np.sin(y[i,0]) + l2*np.sin([y[i,2]])], [0, -l1*np.cos(y[i,0]),-l1*np.cos(y[i,0]) - l2*np.cos(y[i,2])], color = 'b', lw = 2)\n",
        "#  ln1, = ax.plot([0, l1*np.sin(yl[i,0]), l1*np.sin(yl[i,0]) + l2*np.sin([yl[i,2]])], [0, -l1*np.cos(yl[i,0]),-l1*np.cos(yl[i,0]) - l2*np.cos(yl[i,2])], color = 'b', lw = 2)\n",
        "\n",
        "  bob, = ax.plot([l1*np.sin(y[i,0]), l1*np.sin(y[i,0]) + l2*np.sin([y[i,2]])], [-l1*np.cos(y[i,0]),-l1*np.cos(y[i,0]) - l2*np.cos(y[i,2])], 'o', color = 'r', markersize = 5)\n",
        "#  bob1, = ax.plot([l1*np.sin(yl[i,0]), l1*np.sin(yl[i,0]) + l2*np.sin([yl[i,2]])], [-l1*np.cos(yl[i,0]),-l1*np.cos(yl[i,0]) - l2*np.cos(yl[i,2])], 'o', color = 'r', markersize = 5)\n",
        " \n",
        "  lis.append([ln, bob,])\n",
        "\n",
        "ani = animation.ArtistAnimation(fig, lis, interval = 50)\n",
        "ani.save('double.mp4', writer = 'ffmpeg', fps = 20)\n"
      ],
      "execution_count": null,
      "outputs": [
        {
          "output_type": "stream",
          "text": [
            "/usr/local/lib/python3.7/dist-packages/numpy/core/_asarray.py:136: VisibleDeprecationWarning: Creating an ndarray from ragged nested sequences (which is a list-or-tuple of lists-or-tuples-or ndarrays with different lengths or shapes) is deprecated. If you meant to do this, you must specify 'dtype=object' when creating the ndarray\n",
            "  return array(a, dtype, copy=False, order=order, subok=True)\n"
          ],
          "name": "stderr"
        },
        {
          "output_type": "display_data",
          "data": {
            "image/png": "[encoded data removed]",
            "text/plain": [
              "<Figure size 360x360 with 1 Axes>"
            ]
          },
          "metadata": {
            "tags": []
          }
        }
      ]
    },
    {
      "cell_type": "code",
      "metadata": {
        "id": "-89E8uJjS512",
        "colab": {
          "base_uri": "https://localhost:8080/",
          "height": 320
        },
        "outputId": "6a75947f-4c1f-4c97-c028-1b37b948dc29"
      },
      "source": [
        "#phase space plot\n",
        "\n",
        "ptheta1 = (1/6)*m1*(l1**2)*(8*(y[:len(y) + 1, 1])**2 + 3*np.cos(y[:len(y)+1,0]-y[:len(y)+1,2])*(y[:len(y)+1,3])**2 )\n",
        "li = []\n",
        "fig = plt.figure(figsize  = (5,5))\n",
        "ax  = fig.add_subplot(1,1,1)\n",
        "for i in range(len(y)):\n",
        "  k = ax.plot(y[:i+1,0], y[:i+1,1])\n",
        "  li.append(k)\n",
        "ani = animation.ArtistAnimation(fig, li, interval = 50)\n",
        "ani.save(\"cool.mp4\")"
      ],
      "execution_count": null,
      "outputs": [
        {
          "output_type": "display_data",
          "data": {
            "image/png": "[encoded data removed]",
            "text/plain": [
              "<Figure size 360x360 with 1 Axes>"
            ]
          },
          "metadata": {
            "tags": [],
            "needs_background": "light"
          }
        }
      ]
    },
    {
      "cell_type": "code",
      "metadata": {
        "id": "Ye3W1TN39PSC"
      },
      "source": [
        ""
      ],
      "execution_count": null,
      "outputs": []
    }
  ]
}