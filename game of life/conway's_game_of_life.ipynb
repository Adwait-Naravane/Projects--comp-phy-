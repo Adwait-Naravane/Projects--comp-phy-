{
  "nbformat": 4,
  "nbformat_minor": 0,
  "metadata": {
    "colab": {
      "name": "conway's game of life.ipynb",
      "provenance": [],
      "authorship_tag": "ABX9TyOQLLqQgcuBwKBwFTKYXLcU",
      "include_colab_link": true
    },
    "kernelspec": {
      "name": "python3",
      "display_name": "Python 3"
    },
    "language_info": {
      "name": "python"
    }
  },
  "cells": [
    {
      "cell_type": "markdown",
      "metadata": {
        "id": "view-in-github",
        "colab_type": "text"
      },
      "source": [
        "<a href=\"https://colab.research.google.com/github/Adwait-Naravane/Projects--comp-phy-/blob/game-of-life/conway's_game_of_life.ipynb\" target=\"_parent\"><img src=\"https://colab.research.google.com/assets/colab-badge.svg\" alt=\"Open In Colab\"/></a>"
      ]
    },
    {
      "cell_type": "code",
      "metadata": {
        "id": "XVJx8WYmYApH"
      },
      "source": [
        "import numpy as np\n",
        "import matplotlib.pyplot as plt\n",
        "import matplotlib.animation as animation\n",
        "\n",
        "#numpy for manipulating matrices\n",
        "#plt for displaying matrix as a grid map. \n",
        "#animation for combining all together in an animation\n"
      ],
      "execution_count": null,
      "outputs": []
    },
    {
      "cell_type": "code",
      "metadata": {
        "id": "ZIfXY_2TYTMa"
      },
      "source": [
        "# We can use any N*N matrix for this, the below commented matrix is the oscillator.\n",
        "'''\n",
        "matrix = [\n",
        "          [0,0,0,0,0],\n",
        "          [0,0,0,0,0],\n",
        "          [0,1,1,1,0],\n",
        "          [0,0,0,0,0],\n",
        "          [0,0,0,0,0]\n",
        "]\n",
        "'''\n",
        "N = 100\n",
        "matrix =  np.random.choice([1,0], N*N, p=[0.2, 0.8]).reshape(N, N)"
      ],
      "execution_count": null,
      "outputs": []
    },
    {
      "cell_type": "code",
      "metadata": {
        "id": "PUGKNsfBYhCC"
      },
      "source": [
        "#for game of life, we will need a neighbour finding function.\n",
        "#the one below works for all matrix elements even on the boundaries.\n",
        "\n",
        "def neighbors(matrix, r, c):\n",
        "    def get(r, c):\n",
        "        if 0 <= r < len(matrix) and 0 <= c < len(matrix[r]):\n",
        "            return matrix[r][c]\n",
        "        else:\n",
        "            return 0\n",
        "\n",
        "    neighbors_list = [get(r-1, c-1), get(r-1, c), get(r-1, c+1),\n",
        "                      get(r  , c-1),              get(r  , c+1),\n",
        "                      get(r+1, c-1), get(r+1, c), get(r+1, c+1)]\n",
        "\n",
        "    return sum(map(bool, neighbors_list))\n",
        "\n",
        "#now a function to apply the rules.\n",
        "def rules(matrix, i ,j):\n",
        "  if (matrix[i][j] == 0) and (neighbors(matrix, i, j) == 3):\n",
        "    return 1\n",
        "  elif (matrix[i][j] == 1) and ((neighbors(matrix, i,j) == 2) or (neighbors(matrix, i,j) == 3)):\n",
        "    return 1\n",
        "  else:\n",
        "    return 0\n",
        "\n",
        "#and a function to  update our matrices.\n",
        "def changer(data):\n",
        "  global matrix\n",
        "  a = np.zeros((len(matrix),len(matrix[0])))\n",
        "  for i in range(len(matrix)):\n",
        "    for j in range(len(matrix[0])):\n",
        "      a[i][j] = a[i][j] + rules(matrix, i, j)\n",
        "  mat.set_data(a)\n",
        "  matrix = a\n",
        "  return [mat]\n",
        "\n"
      ],
      "execution_count": null,
      "outputs": []
    },
    {
      "cell_type": "code",
      "metadata": {
        "colab": {
          "base_uri": "https://localhost:8080/",
          "height": 268
        },
        "id": "QIJq3ppaZG5n",
        "outputId": "d1fde7c9-9068-4461-c0bc-a48ef4854c00"
      },
      "source": [
        "#now we simply combine the \"changer\" function with the animation classes\n",
        "\n",
        "fig, ax = plt.subplots()\n",
        "mat = ax.matshow(matrix)\n",
        "ani = animation.FuncAnimation(fig, changer, interval = 50, save_count = 200)\n",
        "ani.save('game_of_life.mp4')"
      ],
      "execution_count": null,
      "outputs": [
        {
          "output_type": "display_data",
          "data": {
            "image/png": "[encoded data removed]",
            "text/plain": [
              "<Figure size 432x288 with 1 Axes>"
            ]
          },
          "metadata": {
            "tags": [],
            "needs_background": "light"
          }
        }
      ]
    },
    {
      "cell_type": "code",
      "metadata": {
        "id": "VEZea0FoZVfn"
      },
      "source": [
        ""
      ],
      "execution_count": null,
      "outputs": []
    }
  ]
}