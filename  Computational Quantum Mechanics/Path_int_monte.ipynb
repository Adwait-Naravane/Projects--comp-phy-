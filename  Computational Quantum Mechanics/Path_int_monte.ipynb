{
  "nbformat": 4,
  "nbformat_minor": 0,
  "metadata": {
    "colab": {
      "name": "Path_int_monte.ipynb",
      "provenance": [],
      "authorship_tag": "ABX9TyPdU6ewx5AY+YtubMmt56I7",
      "include_colab_link": true
    },
    "kernelspec": {
      "name": "python3",
      "display_name": "Python 3"
    },
    "language_info": {
      "name": "python"
    }
  },
  "cells": [
    {
      "cell_type": "markdown",
      "metadata": {
        "id": "view-in-github",
        "colab_type": "text"
      },
      "source": [
        "<a href=\"https://colab.research.google.com/github/Adwait-Naravane/Projects--comp-phy-/blob/main/%20Computational%20Quantum%20Mechanics/Path_int_monte.ipynb\" target=\"_parent\"><img src=\"https://colab.research.google.com/assets/colab-badge.svg\" alt=\"Open In Colab\"/></a>"
      ]
    },
    {
      "cell_type": "code",
      "metadata": {
        "id": "a91kLGPW6tE4"
      },
      "source": [
        "import numpy as np\n",
        "import matplotlib.pyplot as plt\n",
        "from numba import jit\n",
        "\n",
        "\n",
        "\n",
        "time = 10\n",
        "N_grid = 1000\n",
        "a = time/N_grid\n",
        "t = np.arange(0,10+a, a)\n",
        "@jit(nopython=True)\n",
        "\n",
        "def create_init_state(xi, xf):\n",
        "  dis = xf - xi \n",
        "  a_x = dis/N_grid\n",
        "  state = np.arange(xi, xf+a_x, a_x)\n",
        "  return state\n",
        "\n",
        "def S(j,x):\n",
        "  jp = (j+1)%len(x)\n",
        "  jm = (j-1)%len(x)\n",
        "  return a*x[j]**2/2 + x[j]*(x[j]-x[jp]-x[jm])/a\n",
        "\n",
        "\n",
        "\n",
        "\n",
        "def update(x, eps):\n",
        "  \n",
        "  for j in range(1, len(x)-1):\n",
        "    old_x = x[j]\n",
        "    old_Sj = S(j,x)\n",
        "    x[j] = x[j] + np.random.uniform(-eps, eps)\n",
        "    dS = S(j,x) - old_Sj\n",
        "    if dS >= 0 and np.exp(-dS) < np.random.uniform(0,1):\n",
        "        x[j] = old_x\n",
        "  return x\n",
        "\n",
        "\n",
        "\n",
        "initial = create_init_state(0,1)**3\n",
        "\n",
        "paths = []\n",
        "for _ in range(1000):\n",
        "  paths.append(initial)\n",
        "  initial = update(initial, 0.001)\n",
        "\n",
        "paths = np.array(paths)\n",
        "\n"
      ],
      "execution_count": 218,
      "outputs": []
    },
    {
      "cell_type": "code",
      "metadata": {
        "id": "Ts8ytuuJBwr2"
      },
      "source": [
        "def compute_G(x,n):\n",
        "  g = 0\n",
        "  N = len(x)\n",
        "  for j in range(0,N):\n",
        "    g = g + x[j]*x[(j+n)%N]\n",
        "  return g/N\n",
        "\n",
        "#Average ovcer 2 point correlations\n",
        "\n",
        "corrn= 0\n",
        "corrn1 = 0\n",
        "\n",
        "#Average over all paths\n",
        "for path in paths:\n",
        "  corrn = corrn + compute_G(path, 100)\n",
        "  corrn1 = corrn1 + compute_G(path, 101)\n",
        "corr50 = corr50/len(paths)\n",
        "corr51 = corr51/len(paths)\n",
        "\n",
        "#Excited - Ground Energy = G_n/G_{n+1} for high n\n",
        "\n"
      ],
      "execution_count": 224,
      "outputs": []
    },
    {
      "cell_type": "code",
      "metadata": {
        "colab": {
          "base_uri": "https://localhost:8080/"
        },
        "id": "afXzo0OTtY7f",
        "outputId": "2d3bdd47-ddce-44f1-cf1f-92f73b8c2f29"
      },
      "source": [
        "corr50/corr51"
      ],
      "execution_count": 225,
      "outputs": [
        {
          "output_type": "execute_result",
          "data": {
            "text/plain": [
              "1.0000000000000002"
            ]
          },
          "metadata": {},
          "execution_count": 225
        }
      ]
    },
    {
      "cell_type": "code",
      "metadata": {
        "colab": {
          "base_uri": "https://localhost:8080/"
        },
        "id": "Jfqp0APGzLiq",
        "outputId": "b896f3a0-4275-47de-8a2c-3959e2e4f1d4"
      },
      "source": [
        ""
      ],
      "execution_count": 226,
      "outputs": [
        {
          "output_type": "execute_result",
          "data": {
            "text/plain": [
              "array([], dtype=float64)"
            ]
          },
          "metadata": {},
          "execution_count": 226
        }
      ]
    },
    {
      "cell_type": "code",
      "metadata": {
        "id": "zuFLJfCmFmjI"
      },
      "source": [
        ""
      ],
      "execution_count": null,
      "outputs": []
    }
  ]
}