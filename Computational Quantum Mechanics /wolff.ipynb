{
  "nbformat": 4,
  "nbformat_minor": 0,
  "metadata": {
    "colab": {
      "name": "wolff.ipynb",
      "provenance": [],
      "authorship_tag": "ABX9TyPA5qYrPzgUTsl/1HMl85P0",
      "include_colab_link": true
    },
    "kernelspec": {
      "name": "python3",
      "display_name": "Python 3"
    },
    "language_info": {
      "name": "python"
    }
  },
  "cells": [
    {
      "cell_type": "markdown",
      "metadata": {
        "id": "view-in-github",
        "colab_type": "text"
      },
      "source": [
        "<a href=\"https://colab.research.google.com/github/Adwait-Naravane/Projects--comp-phy-/blob/main/Computational%20Quantum%20Mechanics%20/wolff.ipynb\" target=\"_parent\"><img src=\"https://colab.research.google.com/assets/colab-badge.svg\" alt=\"Open In Colab\"/></a>"
      ]
    },
    {
      "cell_type": "code",
      "execution_count": 1,
      "metadata": {
        "id": "yuNKNrURyAuz"
      },
      "outputs": [],
      "source": [
        "import numpy as np\n",
        "import matplotlib.pyplot as plt\n",
        "import numba\n",
        "from numba import jit\n",
        "from scipy.ndimage import convolve, generate_binary_structure"
      ]
    },
    {
      "cell_type": "code",
      "source": [
        "N = 50\n",
        "init_random = np.random.random((N,N))\n",
        "config = np.zeros((N,N))\n",
        "config[init_random >= 0.75] = 1\n",
        "config[init_random < 0.75] = -1\n",
        "\n",
        "plt.imshow(config)\n"
      ],
      "metadata": {
        "colab": {
          "base_uri": "https://localhost:8080/",
          "height": 285
        },
        "id": "VEPgWDTT394m",
        "outputId": "14b2e52a-4019-454b-f30b-605d62d2a18b"
      },
      "execution_count": 61,
      "outputs": [
        {
          "output_type": "execute_result",
          "data": {
            "text/plain": [
              "<matplotlib.image.AxesImage at 0x7f087ab897d0>"
            ]
          },
          "metadata": {},
          "execution_count": 61
        },
        {
          "output_type": "display_data",
          "data": {
            "image/png": "[encoded data removed]",
            "text/plain": [
              "<Figure size 432x288 with 1 Axes>"
            ]
          },
          "metadata": {
            "needs_background": "light"
          }
        }
      ]
    },
    {
      "cell_type": "code",
      "source": [
        "nbr = {(i,j):[((i+1)%N, j) , (i,(j+1)%N) , ((i-1)%N, j) , (i,(j-1)%N)] for i in range(N) for j in range(N)}\n",
        "\n",
        "T = 2\n",
        "p  = 1.0 - np.exp(-2.0 / T)\n",
        "nsteps = 100\n",
        "\n",
        "import random\n",
        "for step in range(nsteps):\n",
        "    k = np.random.randint(0,N)\n",
        "    l = np.random.randint(0,N)\n",
        "    Pocket, Cluster = [(k,l)], [(k,l)]\n",
        "    while Pocket != []:\n",
        "        j = random.choice(Pocket)\n",
        "        for m in nbr[j]:\n",
        "            if config[m] == config[j] and m not in Cluster \\\n",
        "                   and np.random.uniform(0.0, 1.0) < p:\n",
        "                Pocket.append(m)\n",
        "                Cluster.append(m)\n",
        "        Pocket.remove(j)\n",
        "    for j in Cluster:\n",
        "        config[j] *= -1"
      ],
      "metadata": {
        "id": "o2KcKAmFNoNM"
      },
      "execution_count": 69,
      "outputs": []
    },
    {
      "cell_type": "code",
      "source": [
        "plt.imshow(config)"
      ],
      "metadata": {
        "colab": {
          "base_uri": "https://localhost:8080/",
          "height": 285
        },
        "id": "jQzM_RYtOmWl",
        "outputId": "6784b539-f359-4a9f-982a-4623031d6b20"
      },
      "execution_count": 70,
      "outputs": [
        {
          "output_type": "execute_result",
          "data": {
            "text/plain": [
              "<matplotlib.image.AxesImage at 0x7f0873295a90>"
            ]
          },
          "metadata": {},
          "execution_count": 70
        },
        {
          "output_type": "display_data",
          "data": {
            "image/png": "[encoded data removed]",
            "text/plain": [
              "<Figure size 432x288 with 1 Axes>"
            ]
          },
          "metadata": {
            "needs_background": "light"
          }
        }
      ]
    },
    {
      "cell_type": "code",
      "source": [
        ""
      ],
      "metadata": {
        "id": "0hsCnaNuUAh-"
      },
      "execution_count": null,
      "outputs": []
    }
  ]
}