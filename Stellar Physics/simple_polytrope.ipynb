{
  "nbformat": 4,
  "nbformat_minor": 0,
  "metadata": {
    "colab": {
      "name": "simple_polytrope.ipynb",
      "provenance": [],
      "authorship_tag": "ABX9TyNdJwz1gd0RvEdtFD2MzrbG",
      "include_colab_link": true
    },
    "kernelspec": {
      "name": "python3",
      "display_name": "Python 3"
    },
    "language_info": {
      "name": "python"
    }
  },
  "cells": [
    {
      "cell_type": "markdown",
      "metadata": {
        "id": "view-in-github",
        "colab_type": "text"
      },
      "source": [
        "<a href=\"https://colab.research.google.com/github/Adwait-Naravane/Projects--comp-phy-/blob/main/Stellar%20Physics/simple_polytrope.ipynb\" target=\"_parent\"><img src=\"https://colab.research.google.com/assets/colab-badge.svg\" alt=\"Open In Colab\"/></a>"
      ]
    },
    {
      "cell_type": "code",
      "metadata": {
        "id": "5iTHOMARPczv"
      },
      "source": [
        "import numpy as np\n",
        "import matplotlib.pyplot as plt\n",
        "import math\n",
        "import matplotlib.animation as animation\n",
        "from scipy.integrate import odeint, trapz\n",
        "import pandas as pd"
      ],
      "execution_count": 37,
      "outputs": []
    },
    {
      "cell_type": "markdown",
      "metadata": {
        "id": "JpwcNu8AWOA9"
      },
      "source": [
        "The Lane-Emden equation for stellar structure.\\\n",
        "$\\frac{1}{\\xi^2} \\frac{d}{d \\xi}(\\xi^2 \\frac{d \\theta_n}{d \\xi}) + \\theta_n^n = 0 $"
      ]
    },
    {
      "cell_type": "code",
      "metadata": {
        "id": "uNbitWAfSXQd"
      },
      "source": [
        "\n",
        "\n",
        "def model(theta, t, n):\n",
        "  \n",
        "  theta1 = theta[0]\n",
        "  theta2 = theta[1]\n",
        "  dtheta1_dt = theta2\n",
        "  dtheta2_dt = -((theta1)**n) - (2/t)*theta2\n",
        "  dtheta_dt = [dtheta1_dt, dtheta2_dt]\n",
        "  return dtheta_dt"
      ],
      "execution_count": 38,
      "outputs": []
    },
    {
      "cell_type": "code",
      "metadata": {
        "colab": {
          "base_uri": "https://localhost:8080/",
          "height": 299
        },
        "id": "CP8nIEw0WG0L",
        "outputId": "744a533b-22b1-4dd1-aa38-7a136932f42c"
      },
      "source": [
        "#initial conditions\n",
        "theta_0 = [1,0]\n",
        "t = np.linspace(0.0001,20, 3000)\n",
        "n = 1.5\n",
        "theta = odeint(model , theta_0, t, args = (n,) )\n",
        "\n",
        "plt.plot(t, theta.T[0])\n",
        "plt.plot(t, theta.T[1])\n",
        "\n",
        "dat1 = np.column_stack((t, theta))\n",
        "df = pd.DataFrame(data = dat1, columns = ['t', 'theta', 'dtheta_dt'])"
      ],
      "execution_count": 52,
      "outputs": [
        {
          "output_type": "stream",
          "text": [
            "/usr/local/lib/python3.7/dist-packages/ipykernel_launcher.py:8: RuntimeWarning: invalid value encountered in double_scalars\n",
            "  \n"
          ],
          "name": "stderr"
        },
        {
          "output_type": "display_data",
          "data": {
            "image/png": "[encoded data removed]",
            "text/plain": [
              "<Figure size 432x288 with 1 Axes>"
            ]
          },
          "metadata": {
            "tags": [],
            "needs_background": "light"
          }
        }
      ]
    },
    {
      "cell_type": "code",
      "metadata": {
        "colab": {
          "base_uri": "https://localhost:8080/"
        },
        "id": "72sTcL7rYSUJ",
        "outputId": "43e7b1bf-5b6c-4b70-e61d-aab11f5f5a09"
      },
      "source": [
        "'''\n",
        "The surface of the polytrope is at a point where theta is 0. \n",
        "'''\n",
        "fin = df.index[df['theta']==min(abs(df['theta']))][0]\n",
        "df = df[:fin]\n",
        "df.loc[fin-1]"
      ],
      "execution_count": 53,
      "outputs": [
        {
          "output_type": "execute_result",
          "data": {
            "text/plain": [
              "t            3.621289\n",
              "theta        0.006659\n",
              "dtheta_dt   -0.206956\n",
              "Name: 543, dtype: float64"
            ]
          },
          "metadata": {
            "tags": []
          },
          "execution_count": 53
        }
      ]
    },
    {
      "cell_type": "code",
      "metadata": {
        "id": "6rLljIrdYXU9"
      },
      "source": [
        "#all constants needed for single polytrope.\n",
        "M = 2*(10**30)\n",
        "R = 696340000\n",
        "a = R/df.iloc[-1]['t']\n",
        "G = 6.67 * (10**(-11))\n",
        "\n",
        "K = (R**((3-n)/n)) * (M**((n-1)/n)) * ((4*np.pi)**(1/n))*((n+1)**(-1)) * ((df.iloc[-1]['t']**((-1-n)/n))) * ((-1*df.iloc[-1]['dtheta_dt'])**((1-n)/n))*G\n",
        "rho_c = ((K*(n+1))/(4*np.pi*G*(a**2)))**(n/(n-1))"
      ],
      "execution_count": 54,
      "outputs": []
    },
    {
      "cell_type": "markdown",
      "metadata": {
        "id": "Ld-bBxLwfL7U"
      },
      "source": [
        "$\\rho = \\rho_c \\theta^n(\\xi)$\\\n",
        "$P = K \\rho^{1+1/n}$\\\n",
        "and $m(r) = 4 \\pi \\int_0^r r^2 \\rho(r) dr$\n"
      ]
    },
    {
      "cell_type": "code",
      "metadata": {
        "colab": {
          "base_uri": "https://localhost:8080/",
          "height": 35
        },
        "id": "JsJSE4PbYn2O",
        "outputId": "c4fca2c5-8e90-4458-ef53-a9e3b6278e3a"
      },
      "source": [
        "df['density'] = rho_c*(df['theta']**n)\n",
        "df['pressure'] = K*(df['density']**(1+1/n))\n",
        "df['Radius'] = a*df['t']\n",
        "\n",
        "df['temperory'] = df['density']*(df['Radius']**2)*4*np.pi\n",
        "mass = pd.DataFrame(np.array([trapz(df.loc[:i]['temperory'], x = df.loc[:i]['Radius']) for i in range(len(df))]), columns=['mass'])\n",
        "df['mass'] = mass\n",
        "df = df.drop(columns=['temperory'])\n",
        "\n",
        "'''\n",
        "Some extra quantitities if one is playing around with stellar oscillations.\n",
        "'''\n",
        "#df['potential'] = G*df['mass']/(df['Radius']**2)\n",
        "#df['sound'] = ((5/3)*df['pressure']/df['density'])**0.5\n",
        "#df['brunt-vais'] = (1/2)*df['potential']/df['sound']\n",
        "\n",
        "#df"
      ],
      "execution_count": 55,
      "outputs": [
        {
          "output_type": "execute_result",
          "data": {
            "application/vnd.google.colaboratory.intrinsic+json": {
              "type": "string"
            },
            "text/plain": [
              "'\\nSome extra quantitities if one is playing around with stellar oscillations.\\n'"
            ]
          },
          "metadata": {
            "tags": []
          },
          "execution_count": 55
        }
      ]
    },
    {
      "cell_type": "code",
      "metadata": {
        "colab": {
          "base_uri": "https://localhost:8080/",
          "height": 296
        },
        "id": "0eDHbi8sf6h3",
        "outputId": "3023112d-c947-4154-c571-09d9ff3b05fb"
      },
      "source": [
        "plt.plot(df['Radius']/R, df['mass']/M, label = 'mass')\n",
        "plt.plot(df['Radius']/R, df['density']/rho_c, label = 'density')\n",
        "plt.plot(df['Radius']/R, df['pressure']/(df.iloc[0]['pressure']), label = 'pressure')\n",
        "plt.xlabel('r/R')\n",
        "plt.ylabel('Normalised')\n",
        "plt.legend()"
      ],
      "execution_count": 56,
      "outputs": [
        {
          "output_type": "execute_result",
          "data": {
            "text/plain": [
              "<matplotlib.legend.Legend at 0x7fbfc7a23e10>"
            ]
          },
          "metadata": {
            "tags": []
          },
          "execution_count": 56
        },
        {
          "output_type": "display_data",
          "data": {
            "image/png": "[encoded data removed]",
            "text/plain": [
              "<Figure size 432x288 with 1 Axes>"
            ]
          },
          "metadata": {
            "tags": [],
            "needs_background": "light"
          }
        }
      ]
    }
  ]
}