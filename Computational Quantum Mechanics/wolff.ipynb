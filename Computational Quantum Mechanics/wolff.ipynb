{
  "nbformat": 4,
  "nbformat_minor": 0,
  "metadata": {
    "colab": {
      "name": "wolff.ipynb",
      "provenance": [],
      "authorship_tag": "ABX9TyMn2S1QKDsmfhvrxA9iQGqq",
      "include_colab_link": true
    },
    "kernelspec": {
      "name": "python3",
      "display_name": "Python 3"
    },
    "language_info": {
      "name": "python"
    }
  },
  "cells": [
    {
      "cell_type": "markdown",
      "metadata": {
        "id": "view-in-github",
        "colab_type": "text"
      },
      "source": [
        "<a href=\"https://colab.research.google.com/github/Adwait-Naravane/Projects--comp-phy-/blob/main/Computational%20Quantum%20Mechanics/wolff.ipynb\" target=\"_parent\"><img src=\"https://colab.research.google.com/assets/colab-badge.svg\" alt=\"Open In Colab\"/></a>"
      ]
    },
    {
      "cell_type": "code",
      "execution_count": 26,
      "metadata": {
        "id": "yuNKNrURyAuz"
      },
      "outputs": [],
      "source": [
        "import numpy as np\n",
        "import matplotlib.pyplot as plt\n",
        "import numba\n",
        "from numba import jit\n",
        "from scipy.ndimage import convolve, generate_binary_structure"
      ]
    },
    {
      "cell_type": "code",
      "source": [
        "N = 50\n",
        "init_random = np.random.random((N,N))\n",
        "config = np.zeros((N,N))\n",
        "config[init_random >= 0.75] = 1\n",
        "config[init_random < 0.75] = -1\n",
        "\n",
        "plt.imshow(config)\n"
      ],
      "metadata": {
        "colab": {
          "base_uri": "https://localhost:8080/",
          "height": 285
        },
        "id": "VEPgWDTT394m",
        "outputId": "7ba69023-74cf-4315-fbdd-84c7ddd986d7"
      },
      "execution_count": 27,
      "outputs": [
        {
          "output_type": "execute_result",
          "data": {
            "text/plain": [
              "<matplotlib.image.AxesImage at 0x7fb0462e9390>"
            ]
          },
          "metadata": {},
          "execution_count": 27
        },
        {
          "output_type": "display_data",
          "data": {
            "image/png": "[encoded data removed]",
            "text/plain": [
              "<Figure size 432x288 with 1 Axes>"
            ]
          },
          "metadata": {
            "needs_background": "light"
          }
        }
      ]
    },
    {
      "cell_type": "code",
      "source": [
        "nbr = {(i,j):[((i+1)%N, j) , (i,(j+1)%N) , ((i-1)%N, j) , (i,(j-1)%N)] for i in range(N) for j in range(N)}\n",
        "\n",
        "T = 2.5\n",
        "p  = 1.0 - np.exp(-2.0 / T)\n",
        "nsteps = 1000\n",
        "\n",
        "import random\n",
        "def wolff(config,T, nsteps=100):\n",
        "  p  = 1.0 - np.exp(-2.0 / T)\n",
        "  for step in range(nsteps):\n",
        "      k = np.random.randint(0,N)\n",
        "      l = np.random.randint(0,N)\n",
        "      Pocket, Cluster = [(k,l)], [(k,l)]\n",
        "      while Pocket != []:\n",
        "          j = random.choice(Pocket)\n",
        "          for m in nbr[j]:\n",
        "              if config[m] == config[j] and m not in Cluster \\\n",
        "                     and np.random.uniform(0.0, 1.0) < p:\n",
        "                  Pocket.append(m)\n",
        "                  Cluster.append(m)\n",
        "          Pocket.remove(j)\n",
        "      for j in Cluster:\n",
        "          config[j] *= -1\n",
        "  return config\n",
        "\n",
        "def calcMag(config):\n",
        "    #Magnetization of a given configuration\n",
        "    mag = np.sum(config)\n",
        "    return mag"
      ],
      "metadata": {
        "id": "o2KcKAmFNoNM"
      },
      "execution_count": 28,
      "outputs": []
    },
    {
      "cell_type": "code",
      "source": [
        "import copy \n",
        "T1 = np.arange(0.1,2, 0.2)\n",
        "T2 = np.arange(2,2.7,0.05)\n",
        "T3 = np.arange(2.8,4,0.2)\n",
        "T = np.concatenate((T1,T2,T3), axis = None)\n",
        "k = copy.deepcopy(config)\n",
        "mag = []\n",
        "for t in T:\n",
        "  wolff(config, t, nsteps = 15)\n",
        "  mag.append(np.abs(calcMag(config)))\n",
        "  config = k"
      ],
      "metadata": {
        "id": "jQzM_RYtOmWl"
      },
      "execution_count": 31,
      "outputs": []
    },
    {
      "cell_type": "code",
      "source": [
        "plt.scatter(T, mag)\n",
        "plt.plot(T,mag)\n",
        "plt.xlabel('Temp')\n",
        "plt.ylabel('Magnetisation')\n",
        "plt.savefig('stuff.png')"
      ],
      "metadata": {
        "id": "0hsCnaNuUAh-",
        "colab": {
          "base_uri": "https://localhost:8080/",
          "height": 279
        },
        "outputId": "06eaaf63-7d79-41d6-a7be-c8b194c3d100"
      },
      "execution_count": 32,
      "outputs": [
        {
          "output_type": "display_data",
          "data": {
            "image/png": "[encoded data removed]",
            "text/plain": [
              "<Figure size 432x288 with 1 Axes>"
            ]
          },
          "metadata": {
            "needs_background": "light"
          }
        }
      ]
    },
    {
      "cell_type": "code",
      "source": [
        "N = 50\n",
        "init_random = np.random.random((N,N))\n",
        "config = np.zeros((N,N))\n",
        "config[init_random >= 0.75] = 1\n",
        "config[init_random < 0.75] = -1\n",
        "\n",
        "wolff(config, 2.1, nsteps = 30)"
      ],
      "metadata": {
        "colab": {
          "base_uri": "https://localhost:8080/"
        },
        "id": "pYxJwfViXtGu",
        "outputId": "1475370a-0ea2-4e20-94eb-5a6bb00f97a4"
      },
      "execution_count": 41,
      "outputs": [
        {
          "output_type": "execute_result",
          "data": {
            "text/plain": [
              "array([[-1., -1., -1., ..., -1., -1., -1.],\n",
              "       [-1., -1., -1., ..., -1.,  1., -1.],\n",
              "       [-1., -1., -1., ..., -1.,  1., -1.],\n",
              "       ...,\n",
              "       [-1., -1., -1., ..., -1., -1., -1.],\n",
              "       [-1., -1., -1., ..., -1., -1., -1.],\n",
              "       [-1., -1., -1., ..., -1., -1., -1.]])"
            ]
          },
          "metadata": {},
          "execution_count": 41
        }
      ]
    },
    {
      "cell_type": "code",
      "source": [
        "plt.imshow(config)"
      ],
      "metadata": {
        "colab": {
          "base_uri": "https://localhost:8080/",
          "height": 285
        },
        "id": "Bn5s04GHY21J",
        "outputId": "d19352bb-57cf-4c82-bb90-7fe59fcfce0e"
      },
      "execution_count": 42,
      "outputs": [
        {
          "output_type": "execute_result",
          "data": {
            "text/plain": [
              "<matplotlib.image.AxesImage at 0x7fb04602b290>"
            ]
          },
          "metadata": {},
          "execution_count": 42
        },
        {
          "output_type": "display_data",
          "data": {
            "image/png": "[encoded data removed]",
            "text/plain": [
              "<Figure size 432x288 with 1 Axes>"
            ]
          },
          "metadata": {
            "needs_background": "light"
          }
        }
      ]
    },
    {
      "cell_type": "code",
      "source": [
        ""
      ],
      "metadata": {
        "id": "igLYh_VXY4Z8"
      },
      "execution_count": null,
      "outputs": []
    }
  ]
}