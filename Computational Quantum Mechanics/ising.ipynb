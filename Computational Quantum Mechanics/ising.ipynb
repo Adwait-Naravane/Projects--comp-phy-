{
  "nbformat": 4,
  "nbformat_minor": 0,
  "metadata": {
    "colab": {
      "name": "ising.ipynb",
      "provenance": [],
      "authorship_tag": "ABX9TyOjiViluwD8AMRgnFIlDNt+",
      "include_colab_link": true
    },
    "kernelspec": {
      "name": "python3",
      "display_name": "Python 3"
    },
    "language_info": {
      "name": "python"
    }
  },
  "cells": [
    {
      "cell_type": "markdown",
      "metadata": {
        "id": "view-in-github",
        "colab_type": "text"
      },
      "source": [
        "<a href=\"https://colab.research.google.com/github/Adwait-Naravane/Projects--comp-phy-/blob/main/Computational%20Quantum%20Mechanics/ising.ipynb\" target=\"_parent\"><img src=\"https://colab.research.google.com/assets/colab-badge.svg\" alt=\"Open In Colab\"/></a>"
      ]
    },
    {
      "cell_type": "code",
      "metadata": {
        "id": "Vp5OSFF1ZbTj"
      },
      "source": [
        "import numpy as np\n",
        "import matplotlib.pyplot as plt\n",
        "import numba\n",
        "from numba import jit\n",
        "from scipy.ndimage import convolve, generate_binary_structure"
      ],
      "execution_count": 21,
      "outputs": []
    },
    {
      "cell_type": "code",
      "metadata": {
        "colab": {
          "base_uri": "https://localhost:8080/",
          "height": 285
        },
        "id": "rrXtgGxqZn_H",
        "outputId": "37674593-10b9-401d-d9a9-a23e6e4ccf2e"
      },
      "source": [
        "N = 50\n",
        "init_random = np.random.random((N,N))\n",
        "config = np.zeros((N,N))\n",
        "config[init_random >= 0.75] = 1\n",
        "config[init_random < 0.75] = -1\n",
        "\n",
        "plt.imshow(config)"
      ],
      "execution_count": 25,
      "outputs": [
        {
          "output_type": "execute_result",
          "data": {
            "text/plain": [
              "<matplotlib.image.AxesImage at 0x7fd6bc438d50>"
            ]
          },
          "metadata": {},
          "execution_count": 25
        },
        {
          "output_type": "display_data",
          "data": {
            "image/png": "[encoded data removed]",
            "text/plain": [
              "<Figure size 432x288 with 1 Axes>"
            ]
          },
          "metadata": {
            "needs_background": "light"
          }
        }
      ]
    },
    {
      "cell_type": "code",
      "metadata": {
        "id": "cbfB5wK8nVW5"
      },
      "source": [
        "import copy \n",
        "@jit(nopython=True, nogil=True)\n",
        "def mcmove(config, beta):\n",
        "  a = np.random.randint(0, N)\n",
        "  b = np.random.randint(0, N)\n",
        "  s =  config[a, b]\n",
        "  nb = config[(a+1)%N,b] + config[a,(b+1)%N] + config[(a-1)%N,b] + config[a,(b-1)%N]\n",
        "  cost = 2*s*nb\n",
        "  if cost < 0:\n",
        "    s *= -1\n",
        "  elif cost >= 0 and np.random.random() < np.exp(-cost*beta):\n",
        "    s *= -1\n",
        "  config[a, b] = s\n",
        "  return config\n",
        "\n",
        "def calcEnergy(config):\n",
        "    '''Energy of a given configuration (dimensionless)!'''\n",
        "    energy = 0\n",
        "    for i in range(len(config)):\n",
        "        for j in range(len(config)):\n",
        "            S = config[i,j]\n",
        "            nb = config[(i+1)%N, j] + config[i,(j+1)%N] + config[(i-1)%N, j] + config[i,(j-1)%N]\n",
        "            energy += -nb*S\n",
        "    return energy/4.\n",
        "\n",
        "def calcMag(config):\n",
        "    '''Magnetization of a given configuration'''\n",
        "    mag = np.sum(config)\n",
        "    return mag\n",
        "  \n",
        "def metropolis(config,beta):\n",
        "  for _ in range(1000000):\n",
        "    mcmove(config, beta)\n",
        "  return config\n",
        "\n",
        "B = np.arange(0.1, 3, 0.05)\n",
        "k = copy.deepcopy(config)\n",
        "mag = []\n",
        "for beta in B:\n",
        "  metropolis(config, beta)\n",
        "  mag.append(calcMag(config))\n",
        "  config = k\n"
      ],
      "execution_count": 26,
      "outputs": []
    },
    {
      "cell_type": "code",
      "metadata": {
        "colab": {
          "base_uri": "https://localhost:8080/",
          "height": 279
        },
        "id": "xRuMq6XqCDVx",
        "outputId": "b716cf98-24c7-41af-8b50-dc88f2684386"
      },
      "source": [
        "plt.scatter(1/np.array(B), mag)\n",
        "plt.plot(1/np.array(B), mag)\n",
        "plt.xlabel('Temp')\n",
        "plt.ylabel('Magnetisation')\n",
        "plt.savefig('stuff.png')"
      ],
      "execution_count": 30,
      "outputs": [
        {
          "output_type": "display_data",
          "data": {
            "image/png": "[encoded data removed]",
            "text/plain": [
              "<Figure size 432x288 with 1 Axes>"
            ]
          },
          "metadata": {
            "needs_background": "light"
          }
        }
      ]
    },
    {
      "cell_type": "code",
      "metadata": {
        "id": "JsiZ4mEcEeYV"
      },
      "source": [
        ""
      ],
      "execution_count": null,
      "outputs": []
    }
  ]
}