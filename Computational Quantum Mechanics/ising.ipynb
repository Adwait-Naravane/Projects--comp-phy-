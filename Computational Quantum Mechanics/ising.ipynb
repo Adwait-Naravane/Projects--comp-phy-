{
  "nbformat": 4,
  "nbformat_minor": 0,
  "metadata": {
    "colab": {
      "name": "ising.ipynb",
      "provenance": [],
      "authorship_tag": "ABX9TyOC6QnvThzil8nw6mPhuqPM",
      "include_colab_link": true
    },
    "kernelspec": {
      "name": "python3",
      "display_name": "Python 3"
    },
    "language_info": {
      "name": "python"
    }
  },
  "cells": [
    {
      "cell_type": "markdown",
      "metadata": {
        "id": "view-in-github",
        "colab_type": "text"
      },
      "source": [
        "<a href=\"https://colab.research.google.com/github/Adwait-Naravane/Projects--comp-phy-/blob/Computational-Quantum-mech/ising.ipynb\" target=\"_parent\"><img src=\"https://colab.research.google.com/assets/colab-badge.svg\" alt=\"Open In Colab\"/></a>"
      ]
    },
    {
      "cell_type": "code",
      "metadata": {
        "id": "Vp5OSFF1ZbTj"
      },
      "source": [
        "import numpy as np\n",
        "import matplotlib.pyplot as plt\n",
        "import numba\n",
        "from numba import jit\n",
        "from scipy.ndimage import convolve, generate_binary_structure"
      ],
      "execution_count": null,
      "outputs": []
    },
    {
      "cell_type": "code",
      "metadata": {
        "colab": {
          "base_uri": "https://localhost:8080/",
          "height": 284
        },
        "id": "rrXtgGxqZn_H",
        "outputId": "ec03352c-5858-4996-8458-ab4cd1133f2f"
      },
      "source": [
        "N = 50\n",
        "init_random = np.random.random((N,N))\n",
        "config = np.zeros((N,N))\n",
        "config[init_random >= 0.75] = 1\n",
        "config[init_random < 0.75] = -1\n",
        "\n",
        "plt.imshow(config)"
      ],
      "execution_count": null,
      "outputs": [
        {
          "output_type": "execute_result",
          "data": {
            "text/plain": [
              "<matplotlib.image.AxesImage at 0x7f77d4624510>"
            ]
          },
          "metadata": {
            "tags": []
          },
          "execution_count": 14
        },
        {
          "output_type": "display_data",
          "data": {
            "image/png": "[encoded data removed]",
            "text/plain": [
              "<Figure size 432x288 with 1 Axes>"
            ]
          },
          "metadata": {
            "tags": [],
            "needs_background": "light"
          }
        }
      ]
    },
    {
      "cell_type": "code",
      "metadata": {
        "id": "cbfB5wK8nVW5"
      },
      "source": [
        "import copy \n",
        "@jit(nopython=True, nogil=True)\n",
        "def mcmove(config, beta):\n",
        "  a = np.random.randint(0, N)\n",
        "  b = np.random.randint(0, N)\n",
        "  s =  config[a, b]\n",
        "  nb = config[(a+1)%N,b] + config[a,(b+1)%N] + config[(a-1)%N,b] + config[a,(b-1)%N]\n",
        "  cost = 2*s*nb\n",
        "  if cost < 0:\n",
        "    s *= -1\n",
        "  elif np.random.random() < np.exp(-cost*beta):\n",
        "    s *= -1\n",
        "  config[a, b] = s\n",
        "  return config\n",
        "\n",
        "def calcEnergy(config):\n",
        "    '''Energy of a given configuration (dimensionless)!'''\n",
        "    energy = 0\n",
        "    for i in range(len(config)):\n",
        "        for j in range(len(config)):\n",
        "            S = config[i,j]\n",
        "            nb = config[(i+1)%N, j] + config[i,(j+1)%N] + config[(i-1)%N, j] + config[i,(j-1)%N]\n",
        "            energy += -nb*S\n",
        "    return energy/4.\n",
        "\n",
        "def calcMag(config):\n",
        "    '''Magnetization of a given configuration'''\n",
        "    mag = np.sum(config)\n",
        "    return mag\n",
        "  \n",
        "def metropolis(config,beta):\n",
        "  for _ in range(1000000):\n",
        "    mcmove(config, beta)\n",
        "  return config\n",
        "\n",
        "T = np.arange(0.1, 20, 2000)\n",
        "k = copy.deepcopy(config)\n",
        "mag = []\n",
        "for beta in T:\n",
        "  metropolis(config, beta)\n",
        "  mag.append(calcMag(config))\n",
        "  config = k\n"
      ],
      "execution_count": null,
      "outputs": []
    },
    {
      "cell_type": "code",
      "metadata": {
        "colab": {
          "base_uri": "https://localhost:8080/",
          "height": 282
        },
        "id": "xRuMq6XqCDVx",
        "outputId": "aacc3fea-9e9e-406c-b945-3a342c6ffe0e"
      },
      "source": [
        "plt.plot(T, mag)"
      ],
      "execution_count": null,
      "outputs": [
        {
          "output_type": "execute_result",
          "data": {
            "text/plain": [
              "[<matplotlib.lines.Line2D at 0x7f77d3b0a410>]"
            ]
          },
          "metadata": {
            "tags": []
          },
          "execution_count": 35
        },
        {
          "output_type": "display_data",
          "data": {
            "image/png": "[encoded data removed]",
            "text/plain": [
              "<Figure size 432x288 with 1 Axes>"
            ]
          },
          "metadata": {
            "tags": [],
            "needs_background": "light"
          }
        }
      ]
    },
    {
      "cell_type": "code",
      "metadata": {
        "id": "JsiZ4mEcEeYV"
      },
      "source": [
        ""
      ],
      "execution_count": null,
      "outputs": []
    }
  ]
}