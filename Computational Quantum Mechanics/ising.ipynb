{
  "nbformat": 4,
  "nbformat_minor": 0,
  "metadata": {
    "colab": {
      "name": "ising.ipynb",
      "provenance": [],
      "authorship_tag": "ABX9TyMs3MO5MKu/4zXdOAixb6eA",
      "include_colab_link": true
    },
    "kernelspec": {
      "name": "python3",
      "display_name": "Python 3"
    },
    "language_info": {
      "name": "python"
    }
  },
  "cells": [
    {
      "cell_type": "markdown",
      "metadata": {
        "id": "view-in-github",
        "colab_type": "text"
      },
      "source": [
        "<a href=\"https://colab.research.google.com/github/Adwait-Naravane/Projects--comp-phy-/blob/main/Computational%20Quantum%20Mechanics/ising.ipynb\" target=\"_parent\"><img src=\"https://colab.research.google.com/assets/colab-badge.svg\" alt=\"Open In Colab\"/></a>"
      ]
    },
    {
      "cell_type": "code",
      "metadata": {
        "id": "Vp5OSFF1ZbTj"
      },
      "source": [
        "import numpy as np\n",
        "import matplotlib.pyplot as plt\n",
        "import numba\n",
        "from numba import jit\n",
        "from scipy.ndimage import convolve, generate_binary_structure"
      ],
      "execution_count": 99,
      "outputs": []
    },
    {
      "cell_type": "code",
      "metadata": {
        "colab": {
          "base_uri": "https://localhost:8080/",
          "height": 285
        },
        "id": "rrXtgGxqZn_H",
        "outputId": "f875c5b7-8623-4966-c62f-f3d693ae8cc0"
      },
      "source": [
        "N = 50\n",
        "init_random = np.random.random((N,N))\n",
        "config = np.zeros((N,N))\n",
        "config[init_random >= 0.75] = 1\n",
        "config[init_random < 0.75] = -1\n",
        "\n",
        "plt.imshow(config)"
      ],
      "execution_count": 100,
      "outputs": [
        {
          "output_type": "execute_result",
          "data": {
            "text/plain": [
              "<matplotlib.image.AxesImage at 0x7fbd7b5a9390>"
            ]
          },
          "metadata": {},
          "execution_count": 100
        },
        {
          "output_type": "display_data",
          "data": {
            "image/png": "[encoded data removed]",
            "text/plain": [
              "<Figure size 432x288 with 1 Axes>"
            ]
          },
          "metadata": {
            "needs_background": "light"
          }
        }
      ]
    },
    {
      "cell_type": "code",
      "metadata": {
        "id": "cbfB5wK8nVW5"
      },
      "source": [
        "import copy \n",
        "@jit(nopython=True, nogil=True)\n",
        "def mcmove(config, beta):\n",
        "  i = np.random.randint(0, N)\n",
        "  j = np.random.randint(0, N)\n",
        "  s =  config[i, j]\n",
        "  nb = config[(i+1)%N,j] + config[i,(j+1)%N] + config[(i-1)%N,j] + config[i,(j-1)%N]\n",
        "  plaq = config[(i+1)%N, j]*config[i, (j+1)%N]*config[(i+1)%N, (j+1)%N] + config[(i+1)%N, j]*config[i, (j-1)%N]*config[(i+1)%N, (j-1)%N] + config[(i-1)%N, j]*config[i, (j+1)%N]*config[(i-1)%N, (j+1)%N] + config[(i-1)%N, j]*config[i, (j-1)%N]*config[(i-1)%N, (j-1)%N]\n",
        "  cost = 2*s*(nb+0.2*plaq)\n",
        "  if cost < 0:\n",
        "    s *= -1\n",
        "  elif cost >= 0 and np.random.random() < np.exp(-cost*beta):\n",
        "    s *= -1\n",
        "  config[i, j] = s\n",
        "  return config\n",
        "\n",
        "def calcEnergy(config):\n",
        "   #Energy of a given configuration (dimensionless)!\n",
        "    energy = 0\n",
        "    for i in range(len(config)):\n",
        "        for j in range(len(config)):\n",
        "            S = config[i,j]\n",
        "            nb = config[(i+1)%N, j] + config[i,(j+1)%N] + config[(i-1)%N, j] + config[i,(j-1)%N] \n",
        "            plaq = config[(i+1)%N, j]*config[i, (j+1)%N]*config[(i+1)%N, (j+1)%N] + config[(i+1)%N, j]*config[i, (j-1)%N]*config[(i+1)%N, (j-1)%N] + config[(i-1)%N, j]*config[i, (j+1)%N]*config[(i-1)%N, (j+1)%N] + config[(i-1)%N, j]*config[i, (j-1)%N]*config[(i-1)%N, (j-1)%N]\n",
        "            energy += -(nb + 0.2*plaq)*S\n",
        "    return energy/4\n",
        "\n",
        "\n",
        "def calcMag(config):\n",
        "    #Magnetization of a given configuration\n",
        "    mag = np.sum(config)\n",
        "    return mag\n",
        "  \n",
        "def metropolis(config,beta):\n",
        "  for _ in range(1000000):\n",
        "    mcmove(config, beta)\n",
        "  return config\n",
        "\n",
        "B = np.arange(0.1, 3, 0.05)\n",
        "k = copy.deepcopy(config)\n",
        "mag = []\n",
        "for beta in B:\n",
        "  metropolis(config, beta)\n",
        "  mag.append(calcMag(config))\n",
        "  config = k\n"
      ],
      "execution_count": 101,
      "outputs": []
    },
    {
      "cell_type": "code",
      "metadata": {
        "colab": {
          "base_uri": "https://localhost:8080/",
          "height": 279
        },
        "id": "xRuMq6XqCDVx",
        "outputId": "e3506564-c82b-4211-f1b7-563af04900d2"
      },
      "source": [
        "plt.scatter(1/np.array(B), mag)\n",
        "plt.plot(1/np.array(B), mag)\n",
        "plt.xlabel('Temp')\n",
        "plt.ylabel('Magnetisation')\n",
        "plt.savefig('stuff.png')"
      ],
      "execution_count": 102,
      "outputs": [
        {
          "output_type": "display_data",
          "data": {
            "image/png": "[encoded data removed]",
            "text/plain": [
              "<Figure size 432x288 with 1 Axes>"
            ]
          },
          "metadata": {
            "needs_background": "light"
          }
        }
      ]
    },
    {
      "cell_type": "code",
      "source": [
        "mag"
      ],
      "metadata": {
        "id": "H7ZYE9e6ayvs",
        "outputId": "9d68a44f-d717-41dd-ac39-11b8129781ed",
        "colab": {
          "base_uri": "https://localhost:8080/"
        }
      },
      "execution_count": 103,
      "outputs": [
        {
          "output_type": "execute_result",
          "data": {
            "text/plain": [
              "[80.0,\n",
              " -50.0,\n",
              " -90.0,\n",
              " -86.0,\n",
              " -246.0,\n",
              " 250.0,\n",
              " -1884.0,\n",
              " -2278.0,\n",
              " -2410.0,\n",
              " -2460.0,\n",
              " -2484.0,\n",
              " -2480.0,\n",
              " -2476.0,\n",
              " -2494.0,\n",
              " -2496.0,\n",
              " -2500.0,\n",
              " -2500.0,\n",
              " -2500.0,\n",
              " -2500.0,\n",
              " -2498.0,\n",
              " -2500.0,\n",
              " -2500.0,\n",
              " -2500.0,\n",
              " -2500.0,\n",
              " -2500.0,\n",
              " -2500.0,\n",
              " -2500.0,\n",
              " -2500.0,\n",
              " -2500.0,\n",
              " -2500.0,\n",
              " -2500.0,\n",
              " -2500.0,\n",
              " -2500.0,\n",
              " -2500.0,\n",
              " -2500.0,\n",
              " -2500.0,\n",
              " -2500.0,\n",
              " -2500.0,\n",
              " -2500.0,\n",
              " -2500.0,\n",
              " -2500.0,\n",
              " -2500.0,\n",
              " -2500.0,\n",
              " -2500.0,\n",
              " -2500.0,\n",
              " -2500.0,\n",
              " -2500.0,\n",
              " -2500.0,\n",
              " -2500.0,\n",
              " -2500.0,\n",
              " -2500.0,\n",
              " -2500.0,\n",
              " -2500.0,\n",
              " -2500.0,\n",
              " -2500.0,\n",
              " -2500.0,\n",
              " -2500.0,\n",
              " -2500.0]"
            ]
          },
          "metadata": {},
          "execution_count": 103
        }
      ]
    },
    {
      "cell_type": "code",
      "source": [
        ""
      ],
      "metadata": {
        "id": "Iufhsja5fITN"
      },
      "execution_count": null,
      "outputs": []
    }
  ]
}