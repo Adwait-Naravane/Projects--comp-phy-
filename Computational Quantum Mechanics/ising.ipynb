{
  "nbformat": 4,
  "nbformat_minor": 0,
  "metadata": {
    "colab": {
      "name": "ising.ipynb",
      "provenance": [],
      "authorship_tag": "ABX9TyN+reVHiuKgSLjf2HrlOCLt",
      "include_colab_link": true
    },
    "kernelspec": {
      "name": "python3",
      "display_name": "Python 3"
    },
    "language_info": {
      "name": "python"
    }
  },
  "cells": [
    {
      "cell_type": "markdown",
      "metadata": {
        "id": "view-in-github",
        "colab_type": "text"
      },
      "source": [
        "<a href=\"https://colab.research.google.com/github/Adwait-Naravane/Projects--comp-phy-/blob/main/Computational%20Quantum%20Mechanics/ising.ipynb\" target=\"_parent\"><img src=\"https://colab.research.google.com/assets/colab-badge.svg\" alt=\"Open In Colab\"/></a>"
      ]
    },
    {
      "cell_type": "code",
      "metadata": {
        "id": "Vp5OSFF1ZbTj"
      },
      "source": [
        "import numpy as np\n",
        "import matplotlib.pyplot as plt\n",
        "import numba\n",
        "from numba import jit\n",
        "from scipy.ndimage import convolve, generate_binary_structure"
      ],
      "execution_count": 1,
      "outputs": []
    },
    {
      "cell_type": "code",
      "metadata": {
        "colab": {
          "base_uri": "https://localhost:8080/",
          "height": 285
        },
        "id": "rrXtgGxqZn_H",
        "outputId": "952fe0ac-1592-4a81-d489-7aba42b1a3a2"
      },
      "source": [
        "N = 50\n",
        "init_random = np.random.random((N,N))\n",
        "config = np.zeros((N,N))\n",
        "config[init_random >= 0.75] = 1\n",
        "config[init_random < 0.75] = -1\n",
        "\n",
        "plt.imshow(config)"
      ],
      "execution_count": 2,
      "outputs": [
        {
          "output_type": "execute_result",
          "data": {
            "text/plain": [
              "<matplotlib.image.AxesImage at 0x7f5afe085f50>"
            ]
          },
          "metadata": {},
          "execution_count": 2
        },
        {
          "output_type": "display_data",
          "data": {
            "image/png": "[encoded data removed]",
            "text/plain": [
              "<Figure size 432x288 with 1 Axes>"
            ]
          },
          "metadata": {
            "needs_background": "light"
          }
        }
      ]
    },
    {
      "cell_type": "code",
      "metadata": {
        "id": "cbfB5wK8nVW5"
      },
      "source": [
        "import copy \n",
        "@jit(nopython=True, nogil=True)\n",
        "def mcmove(config, beta):\n",
        "  i = np.random.randint(0, N)\n",
        "  j = np.random.randint(0, N)\n",
        "  s =  config[i, j]\n",
        "  nb = config[(i+1)%N,j] + config[i,(j+1)%N] + config[(i-1)%N,j] + config[i,(j-1)%N]\n",
        "  plaq = config[(i+1)%N, j]*config[i, (j+1)%N]*config[(i+1)%N, (j+1)%N] + config[(i+1)%N, j]*config[i, (j-1)%N]*config[(i+1)%N, (j-1)%N] + config[(i-1)%N, j]*config[i, (j+1)%N]*config[(i-1)%N, (j+1)%N] + config[(i-1)%N, j]*config[i, (j-1)%N]*config[(i-1)%N, (j-1)%N]\n",
        "  cost = 2*s*(nb+0.2*plaq)\n",
        "  if cost < 0:\n",
        "    s *= -1\n",
        "  elif cost >= 0 and np.random.random() < np.exp(-cost*beta):\n",
        "    s *= -1\n",
        "  config[i, j] = s\n",
        "  return config\n",
        "\n",
        "def mcmove1(config, beta):\n",
        "  i = np.random.randint(0, N)\n",
        "  j = np.random.randint(0, N)\n",
        "  s =  config[i, j]\n",
        "  nb = config[(i+1)%N,j] + config[i,(j+1)%N] + config[(i-1)%N,j] + config[i,(j-1)%N]\n",
        " # plaq = config[(i+1)%N, j]*config[i, (j+1)%N]*config[(i+1)%N, (j+1)%N] + config[(i+1)%N, j]*config[i, (j-1)%N]*config[(i+1)%N, (j-1)%N] + config[(i-1)%N, j]*config[i, (j+1)%N]*config[(i-1)%N, (j+1)%N] + config[(i-1)%N, j]*config[i, (j-1)%N]*config[(i-1)%N, (j-1)%N]\n",
        "  cost = 2*s*(nb)\n",
        "  if cost < 0:\n",
        "    s *= -1\n",
        "  elif cost >= 0 and np.random.random() < np.exp(-cost*beta):\n",
        "    s *= -1\n",
        "  config[i, j] = s\n",
        "  return config\n",
        "\n",
        "def calcEnergy(config):\n",
        "   #Energy of a given configuration (dimensionless)!\n",
        "    energy = 0\n",
        "    for i in range(len(config)):\n",
        "        for j in range(len(config)):\n",
        "            S = config[i,j]\n",
        "            nb = config[(i+1)%N, j] + config[i,(j+1)%N] + config[(i-1)%N, j] + config[i,(j-1)%N] \n",
        "            plaq = config[(i+1)%N, j]*config[i, (j+1)%N]*config[(i+1)%N, (j+1)%N] + config[(i+1)%N, j]*config[i, (j-1)%N]*config[(i+1)%N, (j-1)%N] + config[(i-1)%N, j]*config[i, (j+1)%N]*config[(i-1)%N, (j+1)%N] + config[(i-1)%N, j]*config[i, (j-1)%N]*config[(i-1)%N, (j-1)%N]\n",
        "            energy += -(nb + 0.2*plaq)*S\n",
        "    return energy/4\n",
        "\n",
        "\n",
        "def calcMag(config):\n",
        "    #Magnetization of a given configuration\n",
        "    mag = np.sum(config)\n",
        "    return mag\n",
        "  \n",
        "def metropolis(config,beta):\n",
        "  for _ in range(100000):\n",
        "    mcmove(config, beta)\n",
        "  return config\n",
        "\n",
        "B = np.arange(0.1, 3, 0.02)\n",
        "k = copy.deepcopy(config)\n",
        "mag = []\n",
        "energy_plaq = []\n",
        "for beta in B:\n",
        "  metropolis(config, beta)\n",
        "  mag.append(calcMag(config))\n",
        "  energy_plaq.append(calcEnergy(config))\n",
        "  config = k\n",
        "\n",
        "energy_normal = []\n",
        "for beta in B:\n",
        "  metropolis(config, beta)\n",
        "  energy_normal.append(calcEnergy(config))\n",
        "  config = k"
      ],
      "execution_count": 11,
      "outputs": []
    },
    {
      "cell_type": "code",
      "metadata": {
        "colab": {
          "base_uri": "https://localhost:8080/",
          "height": 279
        },
        "id": "xRuMq6XqCDVx",
        "outputId": "0af2fdf9-4d0c-4258-e3e5-2d9880e3bb29"
      },
      "source": [
        "plt.scatter(1/np.array(B), mag)\n",
        "plt.plot(1/np.array(B), mag)\n",
        "plt.xlabel('Temp')\n",
        "plt.ylabel('Magnetisation')\n",
        "plt.savefig('stuff.png')"
      ],
      "execution_count": 12,
      "outputs": [
        {
          "output_type": "display_data",
          "data": {
            "image/png": "[encoded data removed]",
            "text/plain": [
              "<Figure size 432x288 with 1 Axes>"
            ]
          },
          "metadata": {
            "needs_background": "light"
          }
        }
      ]
    },
    {
      "cell_type": "code",
      "source": [
        "from scipy.optimize import curve_fit\n",
        "plt.scatter(energy_normal, energy_plaq)\n",
        "def f(x,a,b):\n",
        "  return a*x + b\n",
        "popt, pcov = curve_fit(f, energy_normal, energy_plaq)"
      ],
      "metadata": {
        "id": "H7ZYE9e6ayvs",
        "outputId": "2587106b-30f5-43b0-f923-6f0169ce878e",
        "colab": {
          "base_uri": "https://localhost:8080/",
          "height": 265
        }
      },
      "execution_count": 13,
      "outputs": [
        {
          "output_type": "display_data",
          "data": {
            "image/png": "[encoded data removed]",
            "text/plain": [
              "<Figure size 432x288 with 1 Axes>"
            ]
          },
          "metadata": {
            "needs_background": "light"
          }
        }
      ]
    },
    {
      "cell_type": "code",
      "source": [
        "x = np.arange(-3000, 0, 20)\n",
        "y = f(x, *popt)\n",
        "plt.plot(x,y)\n",
        "plt.scatter(energy_normal, energy_plaq)\n"
      ],
      "metadata": {
        "id": "Iufhsja5fITN",
        "outputId": "345b6513-5708-4161-a168-706290d1aea4",
        "colab": {
          "base_uri": "https://localhost:8080/",
          "height": 283
        }
      },
      "execution_count": 14,
      "outputs": [
        {
          "output_type": "execute_result",
          "data": {
            "text/plain": [
              "<matplotlib.collections.PathCollection at 0x7f5ae19b6f50>"
            ]
          },
          "metadata": {},
          "execution_count": 14
        },
        {
          "output_type": "display_data",
          "data": {
            "image/png": "[encoded data removed]",
            "text/plain": [
              "<Figure size 432x288 with 1 Axes>"
            ]
          },
          "metadata": {
            "needs_background": "light"
          }
        }
      ]
    },
    {
      "cell_type": "code",
      "source": [
        "popt"
      ],
      "metadata": {
        "id": "P2452jJHpkY9",
        "outputId": "0eb9128b-2825-47b1-cba8-0490c08fe869",
        "colab": {
          "base_uri": "https://localhost:8080/"
        }
      },
      "execution_count": 15,
      "outputs": [
        {
          "output_type": "execute_result",
          "data": {
            "text/plain": [
              "array([ 1.05622058, 59.07664343])"
            ]
          },
          "metadata": {},
          "execution_count": 15
        }
      ]
    },
    {
      "cell_type": "code",
      "source": [
        ""
      ],
      "metadata": {
        "id": "ByZsB1jrp3aZ"
      },
      "execution_count": null,
      "outputs": []
    }
  ]
}