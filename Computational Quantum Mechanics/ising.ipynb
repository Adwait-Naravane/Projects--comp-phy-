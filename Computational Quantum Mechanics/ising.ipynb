{
  "nbformat": 4,
  "nbformat_minor": 0,
  "metadata": {
    "colab": {
      "name": "ising.ipynb",
      "provenance": [],
      "authorship_tag": "ABX9TyPjXa7tG7nHUjztFC4gVEna",
      "include_colab_link": true
    },
    "kernelspec": {
      "name": "python3",
      "display_name": "Python 3"
    },
    "language_info": {
      "name": "python"
    }
  },
  "cells": [
    {
      "cell_type": "markdown",
      "metadata": {
        "id": "view-in-github",
        "colab_type": "text"
      },
      "source": [
        "<a href=\"https://colab.research.google.com/github/Adwait-Naravane/Projects--comp-phy-/blob/main/Computational%20Quantum%20Mechanics/ising.ipynb\" target=\"_parent\"><img src=\"https://colab.research.google.com/assets/colab-badge.svg\" alt=\"Open In Colab\"/></a>"
      ]
    },
    {
      "cell_type": "code",
      "metadata": {
        "id": "Vp5OSFF1ZbTj"
      },
      "source": [
        "import numpy as np\n",
        "import matplotlib.pyplot as plt\n",
        "import numba\n",
        "from numba import jit\n",
        "from scipy.ndimage import convolve, generate_binary_structure"
      ],
      "execution_count": 9,
      "outputs": []
    },
    {
      "cell_type": "code",
      "metadata": {
        "colab": {
          "base_uri": "https://localhost:8080/",
          "height": 285
        },
        "id": "rrXtgGxqZn_H",
        "outputId": "d42a5d35-ad1e-4467-8d0e-c7ca5d28af8f"
      },
      "source": [
        "N = 50\n",
        "init_random = np.random.random((N,N))\n",
        "config = np.zeros((N,N))\n",
        "config[init_random >= 0.75] = 1\n",
        "config[init_random < 0.75] = -1\n",
        "\n",
        "plt.imshow(config)"
      ],
      "execution_count": 10,
      "outputs": [
        {
          "output_type": "execute_result",
          "data": {
            "text/plain": [
              "<matplotlib.image.AxesImage at 0x7f11dcc3f690>"
            ]
          },
          "metadata": {},
          "execution_count": 10
        },
        {
          "output_type": "display_data",
          "data": {
            "image/png": "[encoded data removed]",
            "text/plain": [
              "<Figure size 432x288 with 1 Axes>"
            ]
          },
          "metadata": {
            "needs_background": "light"
          }
        }
      ]
    },
    {
      "cell_type": "code",
      "metadata": {
        "id": "cbfB5wK8nVW5"
      },
      "source": [
        "import copy \n",
        "@jit(nopython=True, nogil=True)\n",
        "def mcmove(config, beta):\n",
        "  i = np.random.randint(0, N)\n",
        "  j = np.random.randint(0, N)\n",
        "  s =  config[i, j]\n",
        "  nb = config[(i+1)%N,j] + config[i,(j+1)%N] + config[(i-1)%N,j] + config[i,(j-1)%N]\n",
        "  plaq = config[(i+1)%N, j]*config[i, (j+1)%N]*config[(i+1)%N, (j+1)%N] + config[(i+1)%N, j]*config[i, (j-1)%N]*config[(i+1)%N, (j-1)%N] + config[(i-1)%N, j]*config[i, (j+1)%N]*config[(i-1)%N, (j+1)%N] + config[(i-1)%N, j]*config[i, (j-1)%N]*config[(i-1)%N, (j-1)%N]\n",
        "  cost = 2*s*(nb+0.2*plaq)\n",
        "  if cost < 0:\n",
        "    s *= -1\n",
        "  elif cost >= 0 and np.random.random() < np.exp(-cost*beta):\n",
        "    s *= -1\n",
        "  config[i, j] = s\n",
        "  return config\n",
        "\n",
        "def mcmove1(config, beta):\n",
        "  i = np.random.randint(0, N)\n",
        "  j = np.random.randint(0, N)\n",
        "  s =  config[i, j]\n",
        "  nb = config[(i+1)%N,j] + config[i,(j+1)%N] + config[(i-1)%N,j] + config[i,(j-1)%N]\n",
        " # plaq = config[(i+1)%N, j]*config[i, (j+1)%N]*config[(i+1)%N, (j+1)%N] + config[(i+1)%N, j]*config[i, (j-1)%N]*config[(i+1)%N, (j-1)%N] + config[(i-1)%N, j]*config[i, (j+1)%N]*config[(i-1)%N, (j+1)%N] + config[(i-1)%N, j]*config[i, (j-1)%N]*config[(i-1)%N, (j-1)%N]\n",
        "  cost = 2*s*(nb)\n",
        "  if cost < 0:\n",
        "    s *= -1\n",
        "  elif cost >= 0 and np.random.random() < np.exp(-cost*beta):\n",
        "    s *= -1\n",
        "  config[i, j] = s\n",
        "  return config\n",
        "\n",
        "def calcEnergy(config):\n",
        "   #Energy of a given configuration (dimensionless)!\n",
        "    energy = 0\n",
        "    for i in range(len(config)):\n",
        "        for j in range(len(config)):\n",
        "            S = config[i,j]\n",
        "            nb = config[(i+1)%N, j] + config[i,(j+1)%N] + config[(i-1)%N, j] + config[i,(j-1)%N] \n",
        "            plaq = config[(i+1)%N, j]*config[i, (j+1)%N]*config[(i+1)%N, (j+1)%N] + config[(i+1)%N, j]*config[i, (j-1)%N]*config[(i+1)%N, (j-1)%N] + config[(i-1)%N, j]*config[i, (j+1)%N]*config[(i-1)%N, (j+1)%N] + config[(i-1)%N, j]*config[i, (j-1)%N]*config[(i-1)%N, (j-1)%N]\n",
        "            energy += -(nb + 0.2*plaq)*S\n",
        "    return energy/4\n",
        "\n",
        "def calcEnergy1(config):\n",
        "   #Energy of a given configuration (dimensionless)!\n",
        "    energy = 0\n",
        "    for i in range(len(config)):\n",
        "        for j in range(len(config)):\n",
        "            S = config[i,j]\n",
        "            nb = config[(i+1)%N, j] + config[i,(j+1)%N] + config[(i-1)%N, j] + config[i,(j-1)%N] \n",
        "        #    plaq = config[(i+1)%N, j]*config[i, (j+1)%N]*config[(i+1)%N, (j+1)%N] + config[(i+1)%N, j]*config[i, (j-1)%N]*config[(i+1)%N, (j-1)%N] + config[(i-1)%N, j]*config[i, (j+1)%N]*config[(i-1)%N, (j+1)%N] + config[(i-1)%N, j]*config[i, (j-1)%N]*config[(i-1)%N, (j-1)%N]\n",
        "            energy += -(nb)*S\n",
        "    return energy/4\n",
        "\n",
        "def calcMag(config):\n",
        "    #Magnetization of a given configuration\n",
        "    mag = np.sum(config)\n",
        "    return mag\n",
        "  \n",
        "def metropolis(config,beta):\n",
        "  for _ in range(100000):\n",
        "    mcmove(config, beta)\n",
        "  return config\n",
        "def metropolis1(config,beta):\n",
        "  for _ in range(100000):\n",
        "    mcmove1(config, beta)\n",
        "  return config\n",
        "B = np.arange(0.1, 3, 0.02)\n",
        "k = copy.deepcopy(config)\n",
        "mag = []\n",
        "energy_plaq = []\n",
        "for beta in B:\n",
        "  metropolis(config, beta)\n",
        "  mag.append(calcMag(config))\n",
        "  energy_plaq.append(calcEnergy(config))\n",
        "  config = k\n",
        "\n",
        "energy_normal = []\n",
        "for beta in B:\n",
        "  metropolis1(config, beta)\n",
        "  energy_normal.append(calcEnergy1(config))\n",
        "  config = k"
      ],
      "execution_count": 11,
      "outputs": []
    },
    {
      "cell_type": "code",
      "metadata": {
        "colab": {
          "base_uri": "https://localhost:8080/",
          "height": 279
        },
        "id": "xRuMq6XqCDVx",
        "outputId": "4a7b17c6-a6ac-44dd-da25-b0c4573b95a0"
      },
      "source": [
        "plt.scatter(1/np.array(B), mag)\n",
        "plt.plot(1/np.array(B), mag)\n",
        "plt.xlabel('Temp')\n",
        "plt.ylabel('Magnetisation')\n",
        "plt.savefig('stuff.png')"
      ],
      "execution_count": 12,
      "outputs": [
        {
          "output_type": "display_data",
          "data": {
            "image/png": "[encoded data removed]",
            "text/plain": [
              "<Figure size 432x288 with 1 Axes>"
            ]
          },
          "metadata": {
            "needs_background": "light"
          }
        }
      ]
    },
    {
      "cell_type": "code",
      "source": [
        "from scipy.optimize import curve_fit\n",
        "plt.scatter(energy_normal, energy_plaq)\n",
        "def f(x,a,b):\n",
        "  return a*x + b\n",
        "popt, pcov = curve_fit(f, energy_normal, energy_plaq)"
      ],
      "metadata": {
        "id": "H7ZYE9e6ayvs",
        "outputId": "ea3be252-c53a-478c-9e12-a963a2389efb",
        "colab": {
          "base_uri": "https://localhost:8080/",
          "height": 265
        }
      },
      "execution_count": 13,
      "outputs": [
        {
          "output_type": "display_data",
          "data": {
            "image/png": "[encoded data removed]",
            "text/plain": [
              "<Figure size 432x288 with 1 Axes>"
            ]
          },
          "metadata": {
            "needs_background": "light"
          }
        }
      ]
    },
    {
      "cell_type": "code",
      "source": [
        "x = np.arange(-3000, 0, 20)\n",
        "y = f(x, *popt)\n",
        "plt.plot(x,y)\n",
        "plt.scatter(energy_normal, energy_plaq)\n"
      ],
      "metadata": {
        "id": "Iufhsja5fITN",
        "outputId": "83658018-c0be-409f-f891-8094d2765439",
        "colab": {
          "base_uri": "https://localhost:8080/",
          "height": 285
        }
      },
      "execution_count": 14,
      "outputs": [
        {
          "output_type": "execute_result",
          "data": {
            "text/plain": [
              "<matplotlib.collections.PathCollection at 0x7f11e361b990>"
            ]
          },
          "metadata": {},
          "execution_count": 14
        },
        {
          "output_type": "display_data",
          "data": {
            "image/png": "[encoded data removed]",
            "text/plain": [
              "<Figure size 432x288 with 1 Axes>"
            ]
          },
          "metadata": {
            "needs_background": "light"
          }
        }
      ]
    },
    {
      "cell_type": "code",
      "source": [
        "popt"
      ],
      "metadata": {
        "id": "P2452jJHpkY9",
        "outputId": "056edb92-bda2-42b2-f5b9-ab5fa58b4c7d",
        "colab": {
          "base_uri": "https://localhost:8080/"
        }
      },
      "execution_count": 15,
      "outputs": [
        {
          "output_type": "execute_result",
          "data": {
            "text/plain": [
              "array([   1.15941048, -111.18522617])"
            ]
          },
          "metadata": {},
          "execution_count": 15
        }
      ]
    },
    {
      "cell_type": "code",
      "source": [
        ""
      ],
      "metadata": {
        "id": "ByZsB1jrp3aZ"
      },
      "execution_count": null,
      "outputs": []
    }
  ]
}