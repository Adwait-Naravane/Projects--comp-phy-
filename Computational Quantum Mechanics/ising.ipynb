{
  "nbformat": 4,
  "nbformat_minor": 0,
  "metadata": {
    "colab": {
      "name": "ising.ipynb",
      "provenance": [],
      "authorship_tag": "ABX9TyO5iL8Bt95zK3kyc6EWMjlp",
      "include_colab_link": true
    },
    "kernelspec": {
      "name": "python3",
      "display_name": "Python 3"
    },
    "language_info": {
      "name": "python"
    }
  },
  "cells": [
    {
      "cell_type": "markdown",
      "metadata": {
        "id": "view-in-github",
        "colab_type": "text"
      },
      "source": [
        "<a href=\"https://colab.research.google.com/github/Adwait-Naravane/Projects--comp-phy-/blob/main/Computational%20Quantum%20Mechanics/ising.ipynb\" target=\"_parent\"><img src=\"https://colab.research.google.com/assets/colab-badge.svg\" alt=\"Open In Colab\"/></a>"
      ]
    },
    {
      "cell_type": "code",
      "metadata": {
        "id": "Vp5OSFF1ZbTj"
      },
      "source": [
        "import numpy as np\n",
        "import matplotlib.pyplot as plt\n",
        "import numba\n",
        "from numba import jit\n",
        "from scipy.ndimage import convolve, generate_binary_structure"
      ],
      "execution_count": 82,
      "outputs": []
    },
    {
      "cell_type": "code",
      "metadata": {
        "colab": {
          "base_uri": "https://localhost:8080/",
          "height": 285
        },
        "id": "rrXtgGxqZn_H",
        "outputId": "8be2c1bf-78d1-4232-cca1-1cd885d694a7"
      },
      "source": [
        "N = 50\n",
        "init_random = np.random.random((N,N))\n",
        "config = np.zeros((N,N))\n",
        "config[init_random >= 0.75] = 1\n",
        "config[init_random < 0.75] = -1\n",
        "\n",
        "plt.imshow(config)"
      ],
      "execution_count": 95,
      "outputs": [
        {
          "output_type": "execute_result",
          "data": {
            "text/plain": [
              "<matplotlib.image.AxesImage at 0x7fbd7c333790>"
            ]
          },
          "metadata": {},
          "execution_count": 95
        },
        {
          "output_type": "display_data",
          "data": {
            "image/png": "[encoded data removed]",
            "text/plain": [
              "<Figure size 432x288 with 1 Axes>"
            ]
          },
          "metadata": {
            "needs_background": "light"
          }
        }
      ]
    },
    {
      "cell_type": "code",
      "metadata": {
        "id": "cbfB5wK8nVW5"
      },
      "source": [
        "import copy \n",
        "@jit(nopython=True, nogil=True)\n",
        "def mcmove(config, beta):\n",
        "  i = np.random.randint(0, N)\n",
        "  j = np.random.randint(0, N)\n",
        "  s =  config[i, j]\n",
        "  nb = config[(i+1)%N,j] + config[i,(j+1)%N] + config[(i-1)%N,j] + config[i,(j-1)%N]\n",
        "  plaq = plaq = config[(i+1)%N, j]*config[i, (j+1)%N]*config[(i+1)%N, (j+1)%N] + config[(i+1)%N, j]*config[i, (j-1)%N]*config[(i+1)%N, (j-1)%N] + config[(i-1)%N, j]*config[i, (j+1)%N]*config[(i-1)%N, (j+1)%N] + config[(i-1)%N, j]*config[i, (j-1)%N]*config[(i-1)%N, (j-1)%N]\n",
        "  cost = 2*s*(nb+0.2*plaq)\n",
        "  if cost < 0:\n",
        "    s *= -1\n",
        "  elif cost >= 0 and np.random.random() < np.exp(-cost*beta):\n",
        "    s *= -1\n",
        "  config[i, j] = s\n",
        "  return config\n",
        "\n",
        "def calcEnergy(config):\n",
        "   #Energy of a given configuration (dimensionless)!\n",
        "    energy = 0\n",
        "    for i in range(len(config)):\n",
        "        for j in range(len(config)):\n",
        "            S = config[i,j]\n",
        "            nb = config[(i+1)%N, j] + config[i,(j+1)%N] + config[(i-1)%N, j] + config[i,(j-1)%N] \n",
        "            plaq = config[(i+1)%N, j]*config[i, (j+1)%N]*config[(i+1)%N, (j+1)%N] + config[(i+1)%N, j]*config[i, (j-1)%N]*config[(i+1)%N, (j-1)%N] + config[(i-1)%N, j]*config[i, (j+1)%N]*config[(i-1)%N, (j+1)%N] + config[(i-1)%N, j]*config[i, (j-1)%N]*config[(i-1)%N, (j-1)%N]\n",
        "            energy += -(nb + 0.2*plaq)*S\n",
        "    return energy/4\n",
        "\n",
        "\n",
        "def calcMag(config):\n",
        "    #Magnetization of a given configuration\n",
        "    mag = np.sum(config)\n",
        "    return mag\n",
        "  \n",
        "def metropolis(config,beta):\n",
        "  for _ in range(1000000):\n",
        "    mcmove(config, beta)\n",
        "  return config\n",
        "\n",
        "B = np.arange(0.1, 3, 0.05)\n",
        "k = copy.deepcopy(config)\n",
        "mag = []\n",
        "for beta in B:\n",
        "  metropolis(config, beta)\n",
        "  mag.append(calcMag(config))\n",
        "  config = k\n"
      ],
      "execution_count": 96,
      "outputs": []
    },
    {
      "cell_type": "code",
      "metadata": {
        "colab": {
          "base_uri": "https://localhost:8080/",
          "height": 279
        },
        "id": "xRuMq6XqCDVx",
        "outputId": "52659f6a-98ea-40fc-bb41-cf6de6d31149"
      },
      "source": [
        "plt.scatter(1/np.array(B), mag)\n",
        "plt.plot(1/np.array(B), mag)\n",
        "plt.xlabel('Temp')\n",
        "plt.ylabel('Magnetisation')\n",
        "plt.savefig('stuff.png')"
      ],
      "execution_count": 97,
      "outputs": [
        {
          "output_type": "display_data",
          "data": {
            "image/png": "[encoded data removed]",
            "text/plain": [
              "<Figure size 432x288 with 1 Axes>"
            ]
          },
          "metadata": {
            "needs_background": "light"
          }
        }
      ]
    },
    {
      "cell_type": "code",
      "source": [
        "mag"
      ],
      "metadata": {
        "id": "H7ZYE9e6ayvs",
        "outputId": "ab383c63-11f0-4ef6-ab57-9b5fe4ae9e85",
        "colab": {
          "base_uri": "https://localhost:8080/"
        }
      },
      "execution_count": 98,
      "outputs": [
        {
          "output_type": "execute_result",
          "data": {
            "text/plain": [
              "[26.0,\n",
              " 56.0,\n",
              " -68.0,\n",
              " -18.0,\n",
              " 140.0,\n",
              " 340.0,\n",
              " 1812.0,\n",
              " 2296.0,\n",
              " 2424.0,\n",
              " 2454.0,\n",
              " 2478.0,\n",
              " 2492.0,\n",
              " 2498.0,\n",
              " 2490.0,\n",
              " 2496.0,\n",
              " 2500.0,\n",
              " 2498.0,\n",
              " 2498.0,\n",
              " 2500.0,\n",
              " 2500.0,\n",
              " 2500.0,\n",
              " 2500.0,\n",
              " 2500.0,\n",
              " 2500.0,\n",
              " 2500.0,\n",
              " 2500.0,\n",
              " 2500.0,\n",
              " 2500.0,\n",
              " 2500.0,\n",
              " 2500.0,\n",
              " 2500.0,\n",
              " 2500.0,\n",
              " 2500.0,\n",
              " 2500.0,\n",
              " 2500.0,\n",
              " 2500.0,\n",
              " 2500.0,\n",
              " 2500.0,\n",
              " 2500.0,\n",
              " 2500.0,\n",
              " 2500.0,\n",
              " 2500.0,\n",
              " 2500.0,\n",
              " 2500.0,\n",
              " 2500.0,\n",
              " 2500.0,\n",
              " 2500.0,\n",
              " 2500.0,\n",
              " 2500.0,\n",
              " 2500.0,\n",
              " 2500.0,\n",
              " 2500.0,\n",
              " 2500.0,\n",
              " 2500.0,\n",
              " 2500.0,\n",
              " 2500.0,\n",
              " 2500.0,\n",
              " 2500.0]"
            ]
          },
          "metadata": {},
          "execution_count": 98
        }
      ]
    },
    {
      "cell_type": "code",
      "source": [
        ""
      ],
      "metadata": {
        "id": "Iufhsja5fITN"
      },
      "execution_count": null,
      "outputs": []
    }
  ]
}